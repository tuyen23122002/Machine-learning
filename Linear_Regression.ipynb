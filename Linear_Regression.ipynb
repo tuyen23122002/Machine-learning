{
  "nbformat": 4,
  "nbformat_minor": 0,
  "metadata": {
    "colab": {
      "provenance": [],
      "authorship_tag": "ABX9TyO79r2Fuwa0c8IXWNs1eqQP",
      "include_colab_link": true
    },
    "kernelspec": {
      "name": "python3",
      "display_name": "Python 3"
    },
    "language_info": {
      "name": "python"
    }
  },
  "cells": [
    {
      "cell_type": "markdown",
      "metadata": {
        "id": "view-in-github",
        "colab_type": "text"
      },
      "source": [
        "<a href=\"https://colab.research.google.com/github/tuyen23122002/demo-github/blob/master/Linear_Regression.ipynb\" target=\"_parent\"><img src=\"https://colab.research.google.com/assets/colab-badge.svg\" alt=\"Open In Colab\"/></a>"
      ]
    },
    {
      "cell_type": "code",
      "execution_count": null,
      "metadata": {
        "id": "K7XZGXtDe5eb"
      },
      "outputs": [],
      "source": []
    },
    {
      "cell_type": "code",
      "source": [
        "from google.colab import drive\n",
        "drive.mount('/content/drive')"
      ],
      "metadata": {
        "id": "ZUZ_gijQe7zN"
      },
      "execution_count": null,
      "outputs": []
    },
    {
      "cell_type": "code",
      "source": [
        "!gdown --id 1yXzDN5MK6qAGaVh_Nu5gwG2d1HyDunzd"
      ],
      "metadata": {
        "colab": {
          "base_uri": "https://localhost:8080/"
        },
        "id": "vTyG2ckre9wl",
        "outputId": "9b1ccc6b-f1a3-4509-d60d-7a3cc7c07192"
      },
      "execution_count": null,
      "outputs": [
        {
          "output_type": "stream",
          "name": "stdout",
          "text": [
            "/usr/local/lib/python3.10/dist-packages/gdown/cli.py:121: FutureWarning: Option `--id` was deprecated in version 4.3.1 and will be removed in 5.0. You don't need to pass it anymore to use a file ID.\n",
            "  warnings.warn(\n",
            "Downloading...\n",
            "From: https://drive.google.com/uc?id=1yXzDN5MK6qAGaVh_Nu5gwG2d1HyDunzd\n",
            "To: /content/advertising.csv\n",
            "100% 4.06k/4.06k [00:00<00:00, 14.7MB/s]\n"
          ]
        }
      ]
    },
    {
      "cell_type": "code",
      "source": [
        "import numpy as np\n",
        "import matplotlib.pyplot as plt\n",
        "import random\n",
        "data = np.genfromtxt(\"advertising.csv\",delimiter=',',skip_header=1)\n"
      ],
      "metadata": {
        "id": "odnFX4_afORF"
      },
      "execution_count": null,
      "outputs": []
    },
    {
      "cell_type": "code",
      "source": [
        "x1_data = data[:,0]\n",
        "x2_data = data[:,1]\n",
        "x3_data = data[:,2]\n",
        "y_data = data[:,3]"
      ],
      "metadata": {
        "id": "jY3CwaOPfQzs"
      },
      "execution_count": null,
      "outputs": []
    },
    {
      "cell_type": "code",
      "source": [
        "# viet ham mo hinh\n",
        "def compute_output(w1,x1,w2,x2,w3,x3,b):\n",
        "    return w1*x1 + w2*x2 + w3*x3 + b"
      ],
      "metadata": {
        "id": "2CtjiVW1fTKe"
      },
      "execution_count": null,
      "outputs": []
    },
    {
      "cell_type": "code",
      "source": [
        "# ham mat mat\n",
        "def ham_loss (w1,x1,w2,x2,w3,x3,y):\n",
        "    return (compute_output(w1,x1,w2,x2,w3,x3,b) - y)*(compute_output(w1,x1,w2,x2,w3,x3,b) - y)"
      ],
      "metadata": {
        "id": "hyV93lkbfVSj"
      },
      "execution_count": null,
      "outputs": []
    },
    {
      "cell_type": "code",
      "source": [
        "def dao_ham(w1,x1,w2,x2,w3,x3,b,y):\n",
        "    Lw1 = 2*x1*(compute_output(w1,x1,w2,x2,w3,x3,b) - y)\n",
        "    Lw2 = 2*x2*(compute_output(w1,x1,w2,x2,w3,x3,b) - y)\n",
        "    Lw3 = 2*x3*(compute_output(w1,x1,w2,x2,w3,x3,b) - y)\n",
        "    Lb = 2*(compute_output(w1,x1,w2,x2,w3,x3,b) - y)\n",
        "    return Lw1,Lw2,Lw3,Lb"
      ],
      "metadata": {
        "id": "qVFZ8bMufYpH"
      },
      "execution_count": null,
      "outputs": []
    },
    {
      "cell_type": "code",
      "source": [
        "def update(w1,w2,w3,b,Lw1,Lw2,Lw3,Lb):\n",
        "    w1 = w1 - denta*Lw1\n",
        "    w2 = w2 - denta*Lw2\n",
        "    w3 = w3 - denta*Lw3\n",
        "    b = b - denta*Lb\n",
        "    return w1,w2,w3,b"
      ],
      "metadata": {
        "id": "xAzUXJCIfbSN"
      },
      "execution_count": null,
      "outputs": []
    },
    {
      "cell_type": "code",
      "source": [
        "def parameter():\n",
        "    w1 = np.random.randn()/100\n",
        "    w2 = np.random.randn()/100\n",
        "    w3 = np.random.randn()/100\n",
        "    b = np.random.randn()/100\n",
        "    return w1,w2,w3,b"
      ],
      "metadata": {
        "id": "FgNZAJ_ffdKF"
      },
      "execution_count": null,
      "outputs": []
    },
    {
      "cell_type": "code",
      "source": [
        "n_epoch = 30\n",
        "N = 200\n",
        "w1,w2,w3,b = parameter()\n",
        "denta = 0.00000001\n",
        "loss = []\n",
        "for j in range (n_epoch):\n",
        "\n",
        "    for i in range (N):\n",
        "        x1 = x1_data[i]\n",
        "        x2 = x2_data[i]\n",
        "        x3 = x3_data[i]\n",
        "        y =  y_data[i]\n",
        "        compute_output(w1,x1,w2,x2,w3,x3,b)\n",
        "        Lw1,Lw2,Lw3,Lb = dao_ham(w1,x1,w2,x2,w3,x3,b,y)\n",
        "        w1,w2,w3,b = update(w1,w2,w3,b,Lw1,Lw2,Lw3,Lb)\n",
        "        loss.append (ham_loss(w1,x1,w2,x2,w3,x3,y))\n"
      ],
      "metadata": {
        "id": "ixUintjofib-"
      },
      "execution_count": null,
      "outputs": []
    },
    {
      "cell_type": "code",
      "source": [
        "plt.plot(loss)"
      ],
      "metadata": {
        "colab": {
          "base_uri": "https://localhost:8080/",
          "height": 447
        },
        "id": "yPjSKFAYfkwL",
        "outputId": "38eb64b6-62ba-4964-9613-962e564f638d"
      },
      "execution_count": null,
      "outputs": [
        {
          "output_type": "execute_result",
          "data": {
            "text/plain": [
              "[<matplotlib.lines.Line2D at 0x7e24805228c0>]"
            ]
          },
          "metadata": {},
          "execution_count": 10
        },
        {
          "output_type": "display_data",
          "data": {
            "text/plain": [
              "<Figure size 640x480 with 1 Axes>"
            ],
            "image/png": "[encoded data removed]"
          },
          "metadata": {}
        }
      ]
    }
  ]
}